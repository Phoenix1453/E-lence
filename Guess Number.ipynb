{
 "cells": [
  {
   "cell_type": "code",
   "execution_count": null,
   "id": "d00a30c7",
   "metadata": {},
   "outputs": [],
   "source": [
    "import random\n",
    "\n",
    "sayi = random.randint(1,100)\n",
    "can = 0\n",
    "\n",
    "while True:\n",
    "    t = int(input(\"Tahmin sayınızı giriniz (1 ve 100 arasında) : \"))\n",
    "    if t == sayi:\n",
    "        print(\"Congratulations...\")\n",
    "    elif t > sayi:\n",
    "        can +=1\n",
    "        if can >= 10:\n",
    "            print(\"You died...\")\n",
    "            break\n",
    "        else:\n",
    "            print(\"Lütfen daha düşük bir sayı giriniz\")\n",
    "    elif t < sayi:\n",
    "        can +=1\n",
    "        if can >= 10:\n",
    "            print(\"You died...\")\n",
    "        else:\n",
    "            print(\"Lütfen daha düşük bir sayı giriniz\")"
   ]
  }
 ],
 "metadata": {
  "kernelspec": {
   "display_name": "Python 3 (ipykernel)",
   "language": "python",
   "name": "python3"
  },
  "language_info": {
   "codemirror_mode": {
    "name": "ipython",
    "version": 3
   },
   "file_extension": ".py",
   "mimetype": "text/x-python",
   "name": "python",
   "nbconvert_exporter": "python",
   "pygments_lexer": "ipython3",
   "version": "3.9.13"
  }
 },
 "nbformat": 4,
 "nbformat_minor": 5
}
